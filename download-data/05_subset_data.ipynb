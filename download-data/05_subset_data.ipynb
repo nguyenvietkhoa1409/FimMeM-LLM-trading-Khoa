{
 "cells": [
  {
   "cell_type": "code",
   "execution_count": 1,
   "metadata": {},
   "outputs": [],
   "source": [
    "REMOVE_SYMBOL = [\"TWTR\"]"
   ]
  },
  {
   "cell_type": "code",
   "execution_count": 2,
   "metadata": {},
   "outputs": [],
   "source": [
    "import os\n",
    "import pickle\n",
    "import polars as pl\n",
    "from tqdm import tqdm\n",
    "from datetime import date\n",
    "from rich import print\n",
    "from itertools import groupby"
   ]
  },
  {
   "cell_type": "code",
   "execution_count": 3,
   "metadata": {},
   "outputs": [
    {
     "data": {
      "text/html": [
       "<pre style=\"white-space:pre;overflow-x:auto;line-height:normal;font-family:Menlo,'DejaVu Sans Mono',consolas,'Courier New',monospace\"><span style=\"font-weight: bold\">[</span><span style=\"color: #800080; text-decoration-color: #800080; font-weight: bold\">datetime.date</span><span style=\"font-weight: bold\">(</span><span style=\"color: #008080; text-decoration-color: #008080; font-weight: bold\">2021</span>, <span style=\"color: #008080; text-decoration-color: #008080; font-weight: bold\">8</span>, <span style=\"color: #008080; text-decoration-color: #008080; font-weight: bold\">17</span><span style=\"font-weight: bold\">)</span>, <span style=\"color: #800080; text-decoration-color: #800080; font-weight: bold\">datetime.date</span><span style=\"font-weight: bold\">(</span><span style=\"color: #008080; text-decoration-color: #008080; font-weight: bold\">2021</span>, <span style=\"color: #008080; text-decoration-color: #008080; font-weight: bold\">8</span>, <span style=\"color: #008080; text-decoration-color: #008080; font-weight: bold\">18</span><span style=\"font-weight: bold\">)</span>, <span style=\"color: #800080; text-decoration-color: #800080; font-weight: bold\">datetime.date</span><span style=\"font-weight: bold\">(</span><span style=\"color: #008080; text-decoration-color: #008080; font-weight: bold\">2021</span>, <span style=\"color: #008080; text-decoration-color: #008080; font-weight: bold\">8</span>, <span style=\"color: #008080; text-decoration-color: #008080; font-weight: bold\">19</span><span style=\"font-weight: bold\">)]</span>\n",
       "</pre>\n"
      ],
      "text/plain": [
       "\u001b[1m[\u001b[0m\u001b[1;35mdatetime.date\u001b[0m\u001b[1m(\u001b[0m\u001b[1;36m2021\u001b[0m, \u001b[1;36m8\u001b[0m, \u001b[1;36m17\u001b[0m\u001b[1m)\u001b[0m, \u001b[1;35mdatetime.date\u001b[0m\u001b[1m(\u001b[0m\u001b[1;36m2021\u001b[0m, \u001b[1;36m8\u001b[0m, \u001b[1;36m18\u001b[0m\u001b[1m)\u001b[0m, \u001b[1;35mdatetime.date\u001b[0m\u001b[1m(\u001b[0m\u001b[1;36m2021\u001b[0m, \u001b[1;36m8\u001b[0m, \u001b[1;36m19\u001b[0m\u001b[1m)\u001b[0m\u001b[1m]\u001b[0m\n"
      ]
     },
     "metadata": {},
     "output_type": "display_data"
    },
    {
     "data": {
      "text/html": [
       "<pre style=\"white-space:pre;overflow-x:auto;line-height:normal;font-family:Menlo,'DejaVu Sans Mono',consolas,'Courier New',monospace\"><span style=\"color: #800080; text-decoration-color: #800080; font-weight: bold\">dict_keys</span><span style=\"font-weight: bold\">([</span><span style=\"color: #008000; text-decoration-color: #008000\">'price'</span>, <span style=\"color: #008000; text-decoration-color: #008000\">'economic_variable'</span>, <span style=\"color: #008000; text-decoration-color: #008000\">'10k_fillings'</span>, <span style=\"color: #008000; text-decoration-color: #008000\">'10q_fillings'</span>, <span style=\"color: #008000; text-decoration-color: #008000\">'news'</span>, <span style=\"color: #008000; text-decoration-color: #008000\">'ark_record'</span><span style=\"font-weight: bold\">])</span>\n",
       "</pre>\n"
      ],
      "text/plain": [
       "\u001b[1;35mdict_keys\u001b[0m\u001b[1m(\u001b[0m\u001b[1m[\u001b[0m\u001b[32m'price'\u001b[0m, \u001b[32m'economic_variable'\u001b[0m, \u001b[32m'10k_fillings'\u001b[0m, \u001b[32m'10q_fillings'\u001b[0m, \u001b[32m'news'\u001b[0m, \u001b[32m'ark_record'\u001b[0m\u001b[1m]\u001b[0m\u001b[1m)\u001b[0m\n"
      ]
     },
     "metadata": {},
     "output_type": "display_data"
    }
   ],
   "source": [
    "with open(os.path.join(\"..\", \"data\", \"05_env_data\", \"env_data.pkl\"), \"rb\") as f:\n",
    "    env_data = pickle.load(f)\n",
    "\n",
    "print(list(env_data.keys())[:3])\n",
    "print(env_data[date(year=2021, month=8, day=17)].keys())"
   ]
  },
  {
   "cell_type": "code",
   "execution_count": 4,
   "metadata": {},
   "outputs": [
    {
     "data": {
      "text/html": [
       "<pre style=\"white-space:pre;overflow-x:auto;line-height:normal;font-family:Menlo,'DejaVu Sans Mono',consolas,'Courier New',monospace\"><span style=\"color: #008080; text-decoration-color: #008080; font-weight: bold\">675</span>\n",
       "</pre>\n"
      ],
      "text/plain": [
       "\u001b[1;36m675\u001b[0m\n"
      ]
     },
     "metadata": {},
     "output_type": "display_data"
    },
    {
     "data": {
      "text/html": [
       "<div><style>\n",
       ".dataframe > thead > tr > th,\n",
       ".dataframe > tbody > tr > td {\n",
       "  text-align: right;\n",
       "}\n",
       "</style>\n",
       "<small>shape: (5, 11)</small><table border=\"1\" class=\"dataframe\"><thead><tr><th>author</th><th>content</th><th>datetime</th><th>source</th><th>summary</th><th>title</th><th>url</th><th>date</th><th>equity</th><th>text</th><th>help_col</th></tr><tr><td>str</td><td>str</td><td>datetime[μs]</td><td>str</td><td>str</td><td>str</td><td>str</td><td>datetime[μs]</td><td>str</td><td>str</td><td>date</td></tr></thead><tbody><tr><td>&quot;Lisa Levin&quot;</td><td>&quot;&quot;</td><td>2021-09-07 08:58:08</td><td>&quot;&quot;</td><td>&quot;Gainers\n",
       "\n",
       "\n",
       "\tInn…</td><td>&quot;53 Biggest Mov…</td><td>&quot;https://www.be…</td><td>2021-09-07 09:00:00</td><td>&quot;DOCN&quot;</td><td>&quot;53 Biggest Mov…</td><td>2021-09-07</td></tr><tr><td>&quot;Benzinga Insig…</td><td>&quot;&quot;</td><td>2022-10-20 21:56:59</td><td>&quot;benzinga&quot;</td><td>&quot;Gainers\n",
       "\n",
       "Ever-…</td><td>&quot;10 Consumer Di…</td><td>&quot;https://www.be…</td><td>2022-10-21 09:00:00</td><td>&quot;EVK&quot;</td><td>&quot;10 Consumer Di…</td><td>2022-10-21</td></tr><tr><td>&quot;Adam Eckert&quot;</td><td>&quot;&quot;</td><td>2023-02-07 21:22:03</td><td>&quot;benzinga&quot;</td><td>&quot;Microsoft Corp…</td><td>&quot;Look Out Googl…</td><td>&quot;https://www.be…</td><td>2023-02-08 09:00:00</td><td>&quot;GOOG&quot;</td><td>&quot;Look Out Googl…</td><td>2023-02-08</td></tr><tr><td>&quot;Chris Katje&quot;</td><td>&quot;&quot;</td><td>2023-02-07 16:34:31</td><td>&quot;benzinga&quot;</td><td>&quot;Subversive Cap…</td><td>&quot;Want To Copy &#x27;…</td><td>&quot;https://www.be…</td><td>2023-02-08 09:00:00</td><td>&quot;GOOG&quot;</td><td>&quot;Want To Copy &#x27;…</td><td>2023-02-08</td></tr><tr><td>&quot;Adam Eckert&quot;</td><td>&quot;&quot;</td><td>2023-02-07 14:25:35</td><td>&quot;benzinga&quot;</td><td>&quot;Toast Inc (NYS…</td><td>&quot;Toast Stock Ju…</td><td>&quot;https://www.be…</td><td>2023-02-07 09:00:00</td><td>&quot;GOOG&quot;</td><td>&quot;Toast Stock Ju…</td><td>2023-02-07</td></tr></tbody></table></div>"
      ],
      "text/plain": [
       "shape: (5, 11)\n",
       "┌────────────┬─────────┬────────────┬──────────┬───┬────────────┬────────┬────────────┬────────────┐\n",
       "│ author     ┆ content ┆ datetime   ┆ source   ┆ … ┆ date       ┆ equity ┆ text       ┆ help_col   │\n",
       "│ ---        ┆ ---     ┆ ---        ┆ ---      ┆   ┆ ---        ┆ ---    ┆ ---        ┆ ---        │\n",
       "│ str        ┆ str     ┆ datetime[μ ┆ str      ┆   ┆ datetime[μ ┆ str    ┆ str        ┆ date       │\n",
       "│            ┆         ┆ s]         ┆          ┆   ┆ s]         ┆        ┆            ┆            │\n",
       "╞════════════╪═════════╪════════════╪══════════╪═══╪════════════╪════════╪════════════╪════════════╡\n",
       "│ Lisa Levin ┆         ┆ 2021-09-07 ┆          ┆ … ┆ 2021-09-07 ┆ DOCN   ┆ 53 Biggest ┆ 2021-09-07 │\n",
       "│            ┆         ┆ 08:58:08   ┆          ┆   ┆ 09:00:00   ┆        ┆ Movers     ┆            │\n",
       "│            ┆         ┆            ┆          ┆   ┆            ┆        ┆ From       ┆            │\n",
       "│            ┆         ┆            ┆          ┆   ┆            ┆        ┆ Friday Ga… ┆            │\n",
       "│ Benzinga   ┆         ┆ 2022-10-20 ┆ benzinga ┆ … ┆ 2022-10-21 ┆ EVK    ┆ 10         ┆ 2022-10-21 │\n",
       "│ Insights   ┆         ┆ 21:56:59   ┆          ┆   ┆ 09:00:00   ┆        ┆ Consumer   ┆            │\n",
       "│            ┆         ┆            ┆          ┆   ┆            ┆        ┆ Discretion ┆            │\n",
       "│            ┆         ┆            ┆          ┆   ┆            ┆        ┆ ary        ┆            │\n",
       "│            ┆         ┆            ┆          ┆   ┆            ┆        ┆ Stocks…    ┆            │\n",
       "│ Adam       ┆         ┆ 2023-02-07 ┆ benzinga ┆ … ┆ 2023-02-08 ┆ GOOG   ┆ Look Out   ┆ 2023-02-08 │\n",
       "│ Eckert     ┆         ┆ 21:22:03   ┆          ┆   ┆ 09:00:00   ┆        ┆ Google,    ┆            │\n",
       "│            ┆         ┆            ┆          ┆   ┆            ┆        ┆ Microsoft  ┆            │\n",
       "│            ┆         ┆            ┆          ┆   ┆            ┆        ┆ Is Co…     ┆            │\n",
       "│ Chris      ┆         ┆ 2023-02-07 ┆ benzinga ┆ … ┆ 2023-02-08 ┆ GOOG   ┆ Want To    ┆ 2023-02-08 │\n",
       "│ Katje      ┆         ┆ 16:34:31   ┆          ┆   ┆ 09:00:00   ┆        ┆ Copy       ┆            │\n",
       "│            ┆         ┆            ┆          ┆   ┆            ┆        ┆ 'Master    ┆            │\n",
       "│            ┆         ┆            ┆          ┆   ┆            ┆        ┆ Trader'    ┆            │\n",
       "│            ┆         ┆            ┆          ┆   ┆            ┆        ┆ Nan…       ┆            │\n",
       "│ Adam       ┆         ┆ 2023-02-07 ┆ benzinga ┆ … ┆ 2023-02-07 ┆ GOOG   ┆ Toast      ┆ 2023-02-07 │\n",
       "│ Eckert     ┆         ┆ 14:25:35   ┆          ┆   ┆ 09:00:00   ┆        ┆ Stock      ┆            │\n",
       "│            ┆         ┆            ┆          ┆   ┆            ┆        ┆ Jumps      ┆            │\n",
       "│            ┆         ┆            ┆          ┆   ┆            ┆        ┆ After      ┆            │\n",
       "│            ┆         ┆            ┆          ┆   ┆            ┆        ┆ Company …  ┆            │\n",
       "└────────────┴─────────┴────────────┴──────────┴───┴────────────┴────────┴────────────┴────────────┘"
      ]
     },
     "execution_count": 4,
     "metadata": {},
     "output_type": "execute_result"
    }
   ],
   "source": [
    "news_data = pl.read_parquet(\n",
    "    os.path.join(\"..\", \"data\", \"04_input_data\", \"news_data.parquet\")\n",
    ")\n",
    "news_data = news_data.with_columns(pl.col(\"date\").dt.date().alias(\"help_col\"))\n",
    "print(news_data[\"help_col\"].unique().len())\n",
    "news_data.head()"
   ]
  },
  {
   "cell_type": "code",
   "execution_count": 5,
   "metadata": {},
   "outputs": [
    {
     "data": {
      "text/html": [
       "<pre style=\"white-space:pre;overflow-x:auto;line-height:normal;font-family:Menlo,'DejaVu Sans Mono',consolas,'Courier New',monospace\">shape: <span style=\"font-weight: bold\">(</span><span style=\"color: #008080; text-decoration-color: #008080; font-weight: bold\">435</span>, <span style=\"color: #008080; text-decoration-color: #008080; font-weight: bold\">2</span><span style=\"font-weight: bold\">)</span>\n",
       "┌────────┬───────────────┐\n",
       "│ equity ┆ news_coverage │\n",
       "│ ---    ┆ ---           │\n",
       "│ str    ┆ u32           │\n",
       "╞════════╪═══════════════╡\n",
       "│ TSLA   ┆ <span style=\"color: #008080; text-decoration-color: #008080; font-weight: bold\">624</span>           │\n",
       "│ AAPL   ┆ <span style=\"color: #008080; text-decoration-color: #008080; font-weight: bold\">608</span>           │\n",
       "│ AMZN   ┆ <span style=\"color: #008080; text-decoration-color: #008080; font-weight: bold\">605</span>           │\n",
       "│ MSFT   ┆ <span style=\"color: #008080; text-decoration-color: #008080; font-weight: bold\">578</span>           │\n",
       "│ …      ┆ …             │\n",
       "│ GLEO   ┆ <span style=\"color: #008080; text-decoration-color: #008080; font-weight: bold\">2</span>             │\n",
       "│ DYNS   ┆ <span style=\"color: #008080; text-decoration-color: #008080; font-weight: bold\">2</span>             │\n",
       "│ ROBO   ┆ <span style=\"color: #008080; text-decoration-color: #008080; font-weight: bold\">1</span>             │\n",
       "│ SRNG   ┆ <span style=\"color: #008080; text-decoration-color: #008080; font-weight: bold\">1</span>             │\n",
       "└────────┴───────────────┘\n",
       "</pre>\n"
      ],
      "text/plain": [
       "shape: \u001b[1m(\u001b[0m\u001b[1;36m435\u001b[0m, \u001b[1;36m2\u001b[0m\u001b[1m)\u001b[0m\n",
       "┌────────┬───────────────┐\n",
       "│ equity ┆ news_coverage │\n",
       "│ ---    ┆ ---           │\n",
       "│ str    ┆ u32           │\n",
       "╞════════╪═══════════════╡\n",
       "│ TSLA   ┆ \u001b[1;36m624\u001b[0m           │\n",
       "│ AAPL   ┆ \u001b[1;36m608\u001b[0m           │\n",
       "│ AMZN   ┆ \u001b[1;36m605\u001b[0m           │\n",
       "│ MSFT   ┆ \u001b[1;36m578\u001b[0m           │\n",
       "│ …      ┆ …             │\n",
       "│ GLEO   ┆ \u001b[1;36m2\u001b[0m             │\n",
       "│ DYNS   ┆ \u001b[1;36m2\u001b[0m             │\n",
       "│ ROBO   ┆ \u001b[1;36m1\u001b[0m             │\n",
       "│ SRNG   ┆ \u001b[1;36m1\u001b[0m             │\n",
       "└────────┴───────────────┘\n"
      ]
     },
     "metadata": {},
     "output_type": "display_data"
    }
   ],
   "source": [
    "news_coverage = (\n",
    "    news_data.groupby(\"equity\")\n",
    "    .agg(pl.col(\"help_col\").unique().count().alias(\"news_coverage\"))\n",
    "    .sort(\"news_coverage\", descending=True)\n",
    ")\n",
    "print(news_coverage)"
   ]
  },
  {
   "cell_type": "code",
   "execution_count": 6,
   "metadata": {},
   "outputs": [
    {
     "data": {
      "text/html": [
       "<pre style=\"white-space:pre;overflow-x:auto;line-height:normal;font-family:Menlo,'DejaVu Sans Mono',consolas,'Courier New',monospace\">shape: <span style=\"font-weight: bold\">(</span><span style=\"color: #008080; text-decoration-color: #008080; font-weight: bold\">9</span>, <span style=\"color: #008080; text-decoration-color: #008080; font-weight: bold\">3</span><span style=\"font-weight: bold\">)</span>\n",
       "┌────────────┬────────┬───────────────┐\n",
       "│ describe   ┆ equity ┆ news_coverage │\n",
       "│ ---        ┆ ---    ┆ ---           │\n",
       "│ str        ┆ str    ┆ f64           │\n",
       "╞════════════╪════════╪═══════════════╡\n",
       "│ count      ┆ <span style=\"color: #008080; text-decoration-color: #008080; font-weight: bold\">435</span>    ┆ <span style=\"color: #008080; text-decoration-color: #008080; font-weight: bold\">435.0</span>         │\n",
       "│ null_count ┆ <span style=\"color: #008080; text-decoration-color: #008080; font-weight: bold\">0</span>      ┆ <span style=\"color: #008080; text-decoration-color: #008080; font-weight: bold\">0.0</span>           │\n",
       "│ mean       ┆ null   ┆ <span style=\"color: #008080; text-decoration-color: #008080; font-weight: bold\">87.671264</span>     │\n",
       "│ std        ┆ null   ┆ <span style=\"color: #008080; text-decoration-color: #008080; font-weight: bold\">111.774811</span>    │\n",
       "│ min        ┆ AAPL   ┆ <span style=\"color: #008080; text-decoration-color: #008080; font-weight: bold\">1.0</span>           │\n",
       "│ <span style=\"color: #008080; text-decoration-color: #008080; font-weight: bold\">25</span>%        ┆ null   ┆ <span style=\"color: #008080; text-decoration-color: #008080; font-weight: bold\">30.0</span>          │\n",
       "│ <span style=\"color: #008080; text-decoration-color: #008080; font-weight: bold\">50</span>%        ┆ null   ┆ <span style=\"color: #008080; text-decoration-color: #008080; font-weight: bold\">49.0</span>          │\n",
       "│ <span style=\"color: #008080; text-decoration-color: #008080; font-weight: bold\">75</span>%        ┆ null   ┆ <span style=\"color: #008080; text-decoration-color: #008080; font-weight: bold\">87.0</span>          │\n",
       "│ max        ┆ ZY     ┆ <span style=\"color: #008080; text-decoration-color: #008080; font-weight: bold\">624.0</span>         │\n",
       "└────────────┴────────┴───────────────┘\n",
       "</pre>\n"
      ],
      "text/plain": [
       "shape: \u001b[1m(\u001b[0m\u001b[1;36m9\u001b[0m, \u001b[1;36m3\u001b[0m\u001b[1m)\u001b[0m\n",
       "┌────────────┬────────┬───────────────┐\n",
       "│ describe   ┆ equity ┆ news_coverage │\n",
       "│ ---        ┆ ---    ┆ ---           │\n",
       "│ str        ┆ str    ┆ f64           │\n",
       "╞════════════╪════════╪═══════════════╡\n",
       "│ count      ┆ \u001b[1;36m435\u001b[0m    ┆ \u001b[1;36m435.0\u001b[0m         │\n",
       "│ null_count ┆ \u001b[1;36m0\u001b[0m      ┆ \u001b[1;36m0.0\u001b[0m           │\n",
       "│ mean       ┆ null   ┆ \u001b[1;36m87.671264\u001b[0m     │\n",
       "│ std        ┆ null   ┆ \u001b[1;36m111.774811\u001b[0m    │\n",
       "│ min        ┆ AAPL   ┆ \u001b[1;36m1.0\u001b[0m           │\n",
       "│ \u001b[1;36m25\u001b[0m%        ┆ null   ┆ \u001b[1;36m30.0\u001b[0m          │\n",
       "│ \u001b[1;36m50\u001b[0m%        ┆ null   ┆ \u001b[1;36m49.0\u001b[0m          │\n",
       "│ \u001b[1;36m75\u001b[0m%        ┆ null   ┆ \u001b[1;36m87.0\u001b[0m          │\n",
       "│ max        ┆ ZY     ┆ \u001b[1;36m624.0\u001b[0m         │\n",
       "└────────────┴────────┴───────────────┘\n"
      ]
     },
     "metadata": {},
     "output_type": "display_data"
    }
   ],
   "source": [
    "print(news_coverage.describe())"
   ]
  },
  {
   "cell_type": "code",
   "execution_count": 7,
   "metadata": {},
   "outputs": [
    {
     "data": {
      "text/html": [
       "<pre style=\"white-space:pre;overflow-x:auto;line-height:normal;font-family:Menlo,'DejaVu Sans Mono',consolas,'Courier New',monospace\"><span style=\"color: #008080; text-decoration-color: #008080; font-weight: bold\">293.0</span>\n",
       "</pre>\n"
      ],
      "text/plain": [
       "\u001b[1;36m293.0\u001b[0m\n"
      ]
     },
     "metadata": {},
     "output_type": "display_data"
    }
   ],
   "source": [
    "print(news_coverage[\"news_coverage\"].quantile(0.93))"
   ]
  },
  {
   "cell_type": "code",
   "execution_count": 8,
   "metadata": {},
   "outputs": [
    {
     "data": {
      "text/html": [
       "<pre style=\"white-space:pre;overflow-x:auto;line-height:normal;font-family:Menlo,'DejaVu Sans Mono',consolas,'Courier New',monospace\">shape: <span style=\"font-weight: bold\">(</span><span style=\"color: #008080; text-decoration-color: #008080; font-weight: bold\">30</span>, <span style=\"color: #008080; text-decoration-color: #008080; font-weight: bold\">2</span><span style=\"font-weight: bold\">)</span>\n",
       "┌────────┬───────────────┐\n",
       "│ equity ┆ news_coverage │\n",
       "│ ---    ┆ ---           │\n",
       "│ str    ┆ u32           │\n",
       "╞════════╪═══════════════╡\n",
       "│ TSLA   ┆ <span style=\"color: #008080; text-decoration-color: #008080; font-weight: bold\">624</span>           │\n",
       "│ AAPL   ┆ <span style=\"color: #008080; text-decoration-color: #008080; font-weight: bold\">608</span>           │\n",
       "│ AMZN   ┆ <span style=\"color: #008080; text-decoration-color: #008080; font-weight: bold\">605</span>           │\n",
       "│ MSFT   ┆ <span style=\"color: #008080; text-decoration-color: #008080; font-weight: bold\">578</span>           │\n",
       "│ …      ┆ …             │\n",
       "│ SNAP   ┆ <span style=\"color: #008080; text-decoration-color: #008080; font-weight: bold\">310</span>           │\n",
       "│ DKNG   ┆ <span style=\"color: #008080; text-decoration-color: #008080; font-weight: bold\">307</span>           │\n",
       "│ TSM    ┆ <span style=\"color: #008080; text-decoration-color: #008080; font-weight: bold\">303</span>           │\n",
       "│ CRM    ┆ <span style=\"color: #008080; text-decoration-color: #008080; font-weight: bold\">294</span>           │\n",
       "└────────┴───────────────┘\n",
       "</pre>\n"
      ],
      "text/plain": [
       "shape: \u001b[1m(\u001b[0m\u001b[1;36m30\u001b[0m, \u001b[1;36m2\u001b[0m\u001b[1m)\u001b[0m\n",
       "┌────────┬───────────────┐\n",
       "│ equity ┆ news_coverage │\n",
       "│ ---    ┆ ---           │\n",
       "│ str    ┆ u32           │\n",
       "╞════════╪═══════════════╡\n",
       "│ TSLA   ┆ \u001b[1;36m624\u001b[0m           │\n",
       "│ AAPL   ┆ \u001b[1;36m608\u001b[0m           │\n",
       "│ AMZN   ┆ \u001b[1;36m605\u001b[0m           │\n",
       "│ MSFT   ┆ \u001b[1;36m578\u001b[0m           │\n",
       "│ …      ┆ …             │\n",
       "│ SNAP   ┆ \u001b[1;36m310\u001b[0m           │\n",
       "│ DKNG   ┆ \u001b[1;36m307\u001b[0m           │\n",
       "│ TSM    ┆ \u001b[1;36m303\u001b[0m           │\n",
       "│ CRM    ┆ \u001b[1;36m294\u001b[0m           │\n",
       "└────────┴───────────────┘\n"
      ]
     },
     "metadata": {},
     "output_type": "display_data"
    }
   ],
   "source": [
    "print(news_coverage.filter(pl.col(\"news_coverage\") > 293))"
   ]
  },
  {
   "cell_type": "code",
   "execution_count": 9,
   "metadata": {},
   "outputs": [],
   "source": [
    "tickers_to_keep = news_coverage.filter(news_coverage[\"news_coverage\"] > 293)[\n",
    "    \"equity\"\n",
    "].to_list()\n",
    "\n",
    "tickers_to_keep = [x for x in tickers_to_keep if x not in REMOVE_SYMBOL]"
   ]
  },
  {
   "cell_type": "code",
   "execution_count": 10,
   "metadata": {},
   "outputs": [
    {
     "data": {
      "text/html": [
       "<pre style=\"white-space:pre;overflow-x:auto;line-height:normal;font-family:Menlo,'DejaVu Sans Mono',consolas,'Courier New',monospace\"><span style=\"font-weight: bold\">[</span>\n",
       "    <span style=\"color: #008000; text-decoration-color: #008000\">'TSLA'</span>,\n",
       "    <span style=\"color: #008000; text-decoration-color: #008000\">'AAPL'</span>,\n",
       "    <span style=\"color: #008000; text-decoration-color: #008000\">'AMZN'</span>,\n",
       "    <span style=\"color: #008000; text-decoration-color: #008000\">'MSFT'</span>,\n",
       "    <span style=\"color: #008000; text-decoration-color: #008000\">'GOOGL'</span>,\n",
       "    <span style=\"color: #008000; text-decoration-color: #008000\">'GOOG'</span>,\n",
       "    <span style=\"color: #008000; text-decoration-color: #008000\">'BABA'</span>,\n",
       "    <span style=\"color: #008000; text-decoration-color: #008000\">'NVDA'</span>,\n",
       "    <span style=\"color: #008000; text-decoration-color: #008000\">'COIN'</span>,\n",
       "    <span style=\"color: #008000; text-decoration-color: #008000\">'DIS'</span>,\n",
       "    <span style=\"color: #008000; text-decoration-color: #008000\">'NFLX'</span>,\n",
       "    <span style=\"color: #008000; text-decoration-color: #008000\">'NIO'</span>,\n",
       "    <span style=\"color: #008000; text-decoration-color: #008000\">'AMD'</span>,\n",
       "    <span style=\"color: #008000; text-decoration-color: #008000\">'GM'</span>,\n",
       "    <span style=\"color: #008000; text-decoration-color: #008000\">'XPEV'</span>,\n",
       "    <span style=\"color: #008000; text-decoration-color: #008000\">'JD'</span>,\n",
       "    <span style=\"color: #008000; text-decoration-color: #008000\">'BIDU'</span>,\n",
       "    <span style=\"color: #008000; text-decoration-color: #008000\">'PFE'</span>,\n",
       "    <span style=\"color: #008000; text-decoration-color: #008000\">'MRNA'</span>,\n",
       "    <span style=\"color: #008000; text-decoration-color: #008000\">'PYPL'</span>,\n",
       "    <span style=\"color: #008000; text-decoration-color: #008000\">'SQ'</span>,\n",
       "    <span style=\"color: #008000; text-decoration-color: #008000\">'META'</span>,\n",
       "    <span style=\"color: #008000; text-decoration-color: #008000\">'BA'</span>,\n",
       "    <span style=\"color: #008000; text-decoration-color: #008000\">'HOOD'</span>,\n",
       "    <span style=\"color: #008000; text-decoration-color: #008000\">'SONY'</span>,\n",
       "    <span style=\"color: #008000; text-decoration-color: #008000\">'SNAP'</span>,\n",
       "    <span style=\"color: #008000; text-decoration-color: #008000\">'DKNG'</span>,\n",
       "    <span style=\"color: #008000; text-decoration-color: #008000\">'TSM'</span>,\n",
       "    <span style=\"color: #008000; text-decoration-color: #008000\">'CRM'</span>\n",
       "<span style=\"font-weight: bold\">]</span>\n",
       "</pre>\n"
      ],
      "text/plain": [
       "\u001b[1m[\u001b[0m\n",
       "    \u001b[32m'TSLA'\u001b[0m,\n",
       "    \u001b[32m'AAPL'\u001b[0m,\n",
       "    \u001b[32m'AMZN'\u001b[0m,\n",
       "    \u001b[32m'MSFT'\u001b[0m,\n",
       "    \u001b[32m'GOOGL'\u001b[0m,\n",
       "    \u001b[32m'GOOG'\u001b[0m,\n",
       "    \u001b[32m'BABA'\u001b[0m,\n",
       "    \u001b[32m'NVDA'\u001b[0m,\n",
       "    \u001b[32m'COIN'\u001b[0m,\n",
       "    \u001b[32m'DIS'\u001b[0m,\n",
       "    \u001b[32m'NFLX'\u001b[0m,\n",
       "    \u001b[32m'NIO'\u001b[0m,\n",
       "    \u001b[32m'AMD'\u001b[0m,\n",
       "    \u001b[32m'GM'\u001b[0m,\n",
       "    \u001b[32m'XPEV'\u001b[0m,\n",
       "    \u001b[32m'JD'\u001b[0m,\n",
       "    \u001b[32m'BIDU'\u001b[0m,\n",
       "    \u001b[32m'PFE'\u001b[0m,\n",
       "    \u001b[32m'MRNA'\u001b[0m,\n",
       "    \u001b[32m'PYPL'\u001b[0m,\n",
       "    \u001b[32m'SQ'\u001b[0m,\n",
       "    \u001b[32m'META'\u001b[0m,\n",
       "    \u001b[32m'BA'\u001b[0m,\n",
       "    \u001b[32m'HOOD'\u001b[0m,\n",
       "    \u001b[32m'SONY'\u001b[0m,\n",
       "    \u001b[32m'SNAP'\u001b[0m,\n",
       "    \u001b[32m'DKNG'\u001b[0m,\n",
       "    \u001b[32m'TSM'\u001b[0m,\n",
       "    \u001b[32m'CRM'\u001b[0m\n",
       "\u001b[1m]\u001b[0m\n"
      ]
     },
     "metadata": {},
     "output_type": "display_data"
    }
   ],
   "source": [
    "print(tickers_to_keep)"
   ]
  },
  {
   "cell_type": "markdown",
   "metadata": {},
   "source": [
    "# Filter The Current Data"
   ]
  },
  {
   "cell_type": "markdown",
   "metadata": {},
   "source": [
    "## Keep The Original Structure"
   ]
  },
  {
   "cell_type": "code",
   "execution_count": 11,
   "metadata": {},
   "outputs": [
    {
     "name": "stderr",
     "output_type": "stream",
     "text": [
      " 59%|█████▉    | 296/501 [00:00<00:00, 2955.18it/s]"
     ]
    },
    {
     "name": "stderr",
     "output_type": "stream",
     "text": [
      "100%|██████████| 501/501 [00:00<00:00, 2570.53it/s]\n"
     ]
    }
   ],
   "source": [
    "subset_env_data = {}\n",
    "subset_data_new_structure = {}\n",
    "\n",
    "for cur_date in tqdm(env_data):\n",
    "    cur_price = env_data[cur_date][\"price\"]\n",
    "    cur_eco = env_data[cur_date][\"economic_variable\"]\n",
    "    if len(cur_eco) > 1:\n",
    "        print(cur_date)\n",
    "        print(cur_eco)\n",
    "        break\n",
    "    cur_filing_k = env_data[cur_date][\"10k_fillings\"]\n",
    "    cur_filing_q = env_data[cur_date][\"10q_fillings\"]\n",
    "    cur_news = env_data[cur_date][\"news\"]\n",
    "    cur_record = env_data[cur_date][\"ark_record\"]\n",
    "\n",
    "    # subset data\n",
    "    new_price = [i for i in cur_price if i[\"symbol\"] in tickers_to_keep]\n",
    "    new_fillings_k = [i for i in cur_filing_k if i[\"ticker\"] in tickers_to_keep]\n",
    "    new_fillings_q = [i for i in cur_filing_q if i[\"ticker\"] in tickers_to_keep]\n",
    "    new_news = [i for i in cur_news if i[\"ticker\"] in tickers_to_keep]\n",
    "    new_record = [i for i in cur_record if i[\"equity\"] in tickers_to_keep]\n",
    "    subset_env_data[cur_date] = {\n",
    "        \"price\": new_price,\n",
    "        \"economic_variable\": cur_eco,\n",
    "        \"10k_fillings\": new_fillings_k,\n",
    "        \"10q_fillings\": new_fillings_q,\n",
    "        \"news\": new_news,\n",
    "        \"ark_record\": new_record,\n",
    "    }\n",
    "\n",
    "    cur_new_price = {\n",
    "        i[\"symbol\"]: i[\"Adj Close\"] for i in cur_price if i[\"symbol\"] in tickers_to_keep\n",
    "    }\n",
    "    cur_new_eco = cur_eco[0]\n",
    "    cur_new_filing_k = {\n",
    "        i[\"ticker\"]: i[\"content\"]\n",
    "        for i in cur_filing_k\n",
    "        if i[\"ticker\"] in tickers_to_keep\n",
    "    }\n",
    "    cur_new_filing_q = {\n",
    "        i[\"ticker\"]: i[\"content\"]\n",
    "        for i in cur_filing_q\n",
    "        if i[\"ticker\"] in tickers_to_keep\n",
    "    }\n",
    "    cur_new_news = {\n",
    "        key: [i[\"text\"] for i in group]\n",
    "        for key, group in groupby(cur_news, lambda x: x[\"ticker\"])\n",
    "        if key in tickers_to_keep\n",
    "    }\n",
    "    cur_new_record = {}\n",
    "    for i in cur_record:\n",
    "        if i[\"equity\"] in tickers_to_keep:\n",
    "            temp_dict = {\n",
    "                \"direction\": i[\"direction\"],\n",
    "                \"quantity\": i[\"quantity\"],\n",
    "            }\n",
    "            cur_new_record[i[\"equity\"]] = temp_dict\n",
    "    subset_data_new_structure[cur_date] = {\n",
    "        \"price\": cur_new_price,\n",
    "        \"eco\": cur_new_eco,\n",
    "        \"filing_k\": cur_new_filing_k,\n",
    "        \"filing_q\": cur_new_filing_q,\n",
    "        \"news\": cur_new_news,\n",
    "        \"ark_record\": cur_new_record,\n",
    "    }"
   ]
  },
  {
   "cell_type": "code",
   "execution_count": 12,
   "metadata": {},
   "outputs": [],
   "source": [
    "with open(os.path.join(\"..\", \"data\", \"05_env_data\", \"subset_env_data.pkl\"), \"wb\") as f:\n",
    "    pickle.dump(subset_env_data, f)"
   ]
  },
  {
   "cell_type": "code",
   "execution_count": 13,
   "metadata": {},
   "outputs": [],
   "source": [
    "with open(\n",
    "    os.path.join(\"..\", \"data\", \"05_env_data\", \"subset_new_env_data.pkl\"), \"wb\"\n",
    ") as f:\n",
    "    pickle.dump(subset_data_new_structure, f)"
   ]
  },
  {
   "cell_type": "code",
   "execution_count": null,
   "metadata": {},
   "outputs": [],
   "source": []
  }
 ],
 "metadata": {
  "kernelspec": {
   "display_name": ".venv",
   "language": "python",
   "name": "python3"
  },
  "language_info": {
   "codemirror_mode": {
    "name": "ipython",
    "version": 3
   },
   "file_extension": ".py",
   "mimetype": "text/x-python",
   "name": "python",
   "nbconvert_exporter": "python",
   "pygments_lexer": "ipython3",
   "version": "3.10.12"
  },
  "orig_nbformat": 4
 },
 "nbformat": 4,
 "nbformat_minor": 2
}
